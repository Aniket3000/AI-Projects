{
 "cells": [
  {
   "cell_type": "code",
   "execution_count": 2,
   "metadata": {},
   "outputs": [],
   "source": [
    "import numpy as np\n",
    "import pandas as pd\n",
    "import matplotlib.pyplot as plt"
   ]
  },
  {
   "cell_type": "code",
   "execution_count": 5,
   "metadata": {},
   "outputs": [],
   "source": [
    "def readData(filename):\n",
    "    df=pd.read_csv(filename)\n",
    "    return df.values"
   ]
  },
  {
   "cell_type": "code",
   "execution_count": 7,
   "metadata": {},
   "outputs": [],
   "source": [
    "x=readData('E:\\CodingMafia\\Projects\\Week1\\LinearRegression\\LinearRegrTrainSmartWatch.csv')\n",
    "\n",
    "y=readData('E:\\CodingMafia\\Projects\\Week1\\LinearRegression\\LinearRegrOutputDataSmartWatch.csv')"
   ]
  },
  {
   "cell_type": "code",
   "execution_count": 15,
   "metadata": {},
   "outputs": [],
   "source": [
    "x=x.reshape((3750))\n",
    "y=y.reshape((3750,))"
   ]
  },
  {
   "cell_type": "code",
   "execution_count": 17,
   "metadata": {},
   "outputs": [
    {
     "data": {
      "image/png": "[encoded data removed]",
      "text/plain": [
       "<Figure size 432x288 with 1 Axes>"
      ]
     },
     "metadata": {
      "needs_background": "light"
     },
     "output_type": "display_data"
    }
   ],
   "source": [
    "plt.scatter(x,y)\n",
    "plt.show()"
   ]
  },
  {
   "cell_type": "markdown",
   "metadata": {},
   "source": [
    "Linear Regression Apply"
   ]
  },
  {
   "cell_type": "code",
   "execution_count": 28,
   "metadata": {},
   "outputs": [],
   "source": [
    "def hypothesis(m,c,x):\n",
    "    return m*x+c"
   ]
  },
  {
   "cell_type": "code",
   "execution_count": 29,
   "metadata": {},
   "outputs": [],
   "source": [
    "def error(x,y,m,c):\n",
    "    m=x.shape[0]\n",
    "    tot_err=0\n",
    "    for i in range(m):\n",
    "        tot_err += (y[i]-hypothesis(m,c,x[i]))**2\n",
    "    return 0.5*tot_err"
   ]
  },
  {
   "cell_type": "code",
   "execution_count": 30,
   "metadata": {},
   "outputs": [],
   "source": [
    "def gradient(x,y,m,c):\n",
    "    grad=np.array([0.,0.])\n",
    "    \n",
    "    for i in range(x.shape[0]):\n",
    "        grad[0] += (hypothesis(m,c,x[i])-y[i])\n",
    "        grad[1] += (hypothesis(m,c,x[i]-y[i]))*x[i]\n",
    "    return grad"
   ]
  },
  {
   "cell_type": "code",
   "execution_count": 33,
   "metadata": {},
   "outputs": [],
   "source": [
    "def grad_descent(x,y,learn_rate,maxIter):\n",
    "    m=0.0\n",
    "    c=0.0\n",
    "    err=[]\n",
    "    for i in range(maxIter):\n",
    "        grad=gradient(x,y,m,c)\n",
    "        ce=error(x,y,m,c)\n",
    "        m -= learn_rate*grad[1]\n",
    "        c -= learn_rate*grad[0]\n",
    "        err.append(ce)\n",
    "    return m,c,err"
   ]
  },
  {
   "cell_type": "code",
   "execution_count": 136,
   "metadata": {},
   "outputs": [
    {
     "name": "stdout",
     "output_type": "stream",
     "text": [
      "88.52780104956992 0.18832550411394258\n"
     ]
    }
   ],
   "source": [
    "m,c,err=grad_descent(x,y,learn_rate=0.0000008,maxIter=80)\n",
    "print(m,c)"
   ]
  },
  {
   "cell_type": "code",
   "execution_count": 137,
   "metadata": {},
   "outputs": [
    {
     "data": {
      "image/png": "[encoded data removed]",
      "text/plain": [
       "<Figure size 432x288 with 1 Axes>"
      ]
     },
     "metadata": {
      "needs_background": "light"
     },
     "output_type": "display_data"
    }
   ],
   "source": [
    "plt.scatter(x,y)\n",
    "plt.plot(x,hypothesis(m,c,x),color='r')\n",
    "plt.show()"
   ]
  },
  {
   "cell_type": "code",
   "execution_count": 126,
   "metadata": {},
   "outputs": [
    {
     "name": "stdout",
     "output_type": "stream",
     "text": [
      "[24886774990.629696, 24886773894.972866, 24886772802.618763, 24886771713.55738, 24886770627.778717, 24886769545.272614, 24886768466.029446, 24886767390.039104, 24886766317.291683, 24886765247.777336, 24886764181.486416, 24886763118.408733, 24886762058.534695, 24886761001.854572, 24886759948.35829, 24886758898.036266, 24886757850.87846, 24886756806.875168, 24886755766.01657, 24886754728.292564, 24886753693.69336, 24886752662.208702, 24886751633.828476, 24886750608.54233, 24886749586.339664, 24886748567.209824, 24886747551.141712, 24886746538.12384, 24886745528.144268, 24886744521.190426, 24886743517.24914, 24886742516.305984, 24886741518.345898, 24886740523.351692, 24886739531.30508, 24886738542.185078, 24886737555.968502, 24886736572.628216, 24886735592.13322, 24886734614.447407, 24886733639.528397, 24886732667.325653, 24886731697.77884, 24886730730.81629, 24886729766.35061, 24886728804.277004, 24886727844.467495, 24886726886.76604, 24886725930.982754, 24886724976.884518, 24886724024.18601, 24886723072.536686, 24886722121.505913, 24886721170.564167, 24886720219.059162, 24886719266.18806, 24886718310.961334, 24886717352.15891, 24886716388.276867, 24886715417.459602, 24886714437.418407, 24886713445.3291, 24886712437.706146, 24886711410.248188, 24886710357.645805, 24886709273.345177, 24886708149.255707, 24886706975.389748, 24886705739.416595, 24886704426.11325, 24886703016.68496, 24886701487.927063, 24886699811.189617, 24886697951.100277, 24886695863.9863, 24886693495.926624, 24886690780.34767, 24886687635.056225, 24886683958.574722, 24886679625.621273]\n"
     ]
    }
   ],
   "source": [
    "print(err)"
   ]
  }
 ],
 "metadata": {
  "kernelspec": {
   "display_name": "Python 3",
   "language": "python",
   "name": "python3"
  },
  "language_info": {
   "codemirror_mode": {
    "name": "ipython",
    "version": 3
   },
   "file_extension": ".py",
   "mimetype": "text/x-python",
   "name": "python",
   "nbconvert_exporter": "python",
   "pygments_lexer": "ipython3",
   "version": "3.7.3"
  }
 },
 "nbformat": 4,
 "nbformat_minor": 2
}
